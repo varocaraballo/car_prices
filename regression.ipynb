{
 "cells": [
  {
   "cell_type": "markdown",
   "metadata": {},
   "source": [
    "### Car prices project"
   ]
  },
  {
   "cell_type": "markdown",
   "metadata": {},
   "source": [
    "Importing libraries for utilizing regression"
   ]
  },
  {
   "cell_type": "code",
   "execution_count": 100,
   "metadata": {},
   "outputs": [
    {
     "data": {
      "text/html": [
       "<div>\n",
       "<style scoped>\n",
       "    .dataframe tbody tr th:only-of-type {\n",
       "        vertical-align: middle;\n",
       "    }\n",
       "\n",
       "    .dataframe tbody tr th {\n",
       "        vertical-align: top;\n",
       "    }\n",
       "\n",
       "    .dataframe thead th {\n",
       "        text-align: right;\n",
       "    }\n",
       "</style>\n",
       "<table border=\"1\" class=\"dataframe\">\n",
       "  <thead>\n",
       "    <tr style=\"text-align: right;\">\n",
       "      <th></th>\n",
       "      <th>Make</th>\n",
       "      <th>Model</th>\n",
       "      <th>Year</th>\n",
       "      <th>Engine Fuel Type</th>\n",
       "      <th>Engine HP</th>\n",
       "      <th>Engine Cylinders</th>\n",
       "      <th>Transmission Type</th>\n",
       "      <th>Driven_Wheels</th>\n",
       "      <th>Number of Doors</th>\n",
       "      <th>Market Category</th>\n",
       "      <th>Vehicle Size</th>\n",
       "      <th>Vehicle Style</th>\n",
       "      <th>highway MPG</th>\n",
       "      <th>city mpg</th>\n",
       "      <th>Popularity</th>\n",
       "      <th>MSRP</th>\n",
       "    </tr>\n",
       "  </thead>\n",
       "  <tbody>\n",
       "    <tr>\n",
       "      <th>0</th>\n",
       "      <td>BMW</td>\n",
       "      <td>1 Series M</td>\n",
       "      <td>2011</td>\n",
       "      <td>premium unleaded (required)</td>\n",
       "      <td>335.0</td>\n",
       "      <td>6.0</td>\n",
       "      <td>MANUAL</td>\n",
       "      <td>rear wheel drive</td>\n",
       "      <td>2.0</td>\n",
       "      <td>Factory Tuner,Luxury,High-Performance</td>\n",
       "      <td>Compact</td>\n",
       "      <td>Coupe</td>\n",
       "      <td>26</td>\n",
       "      <td>19</td>\n",
       "      <td>3916</td>\n",
       "      <td>46135</td>\n",
       "    </tr>\n",
       "    <tr>\n",
       "      <th>1</th>\n",
       "      <td>BMW</td>\n",
       "      <td>1 Series</td>\n",
       "      <td>2011</td>\n",
       "      <td>premium unleaded (required)</td>\n",
       "      <td>300.0</td>\n",
       "      <td>6.0</td>\n",
       "      <td>MANUAL</td>\n",
       "      <td>rear wheel drive</td>\n",
       "      <td>2.0</td>\n",
       "      <td>Luxury,Performance</td>\n",
       "      <td>Compact</td>\n",
       "      <td>Convertible</td>\n",
       "      <td>28</td>\n",
       "      <td>19</td>\n",
       "      <td>3916</td>\n",
       "      <td>40650</td>\n",
       "    </tr>\n",
       "    <tr>\n",
       "      <th>2</th>\n",
       "      <td>BMW</td>\n",
       "      <td>1 Series</td>\n",
       "      <td>2011</td>\n",
       "      <td>premium unleaded (required)</td>\n",
       "      <td>300.0</td>\n",
       "      <td>6.0</td>\n",
       "      <td>MANUAL</td>\n",
       "      <td>rear wheel drive</td>\n",
       "      <td>2.0</td>\n",
       "      <td>Luxury,High-Performance</td>\n",
       "      <td>Compact</td>\n",
       "      <td>Coupe</td>\n",
       "      <td>28</td>\n",
       "      <td>20</td>\n",
       "      <td>3916</td>\n",
       "      <td>36350</td>\n",
       "    </tr>\n",
       "    <tr>\n",
       "      <th>3</th>\n",
       "      <td>BMW</td>\n",
       "      <td>1 Series</td>\n",
       "      <td>2011</td>\n",
       "      <td>premium unleaded (required)</td>\n",
       "      <td>230.0</td>\n",
       "      <td>6.0</td>\n",
       "      <td>MANUAL</td>\n",
       "      <td>rear wheel drive</td>\n",
       "      <td>2.0</td>\n",
       "      <td>Luxury,Performance</td>\n",
       "      <td>Compact</td>\n",
       "      <td>Coupe</td>\n",
       "      <td>28</td>\n",
       "      <td>18</td>\n",
       "      <td>3916</td>\n",
       "      <td>29450</td>\n",
       "    </tr>\n",
       "    <tr>\n",
       "      <th>4</th>\n",
       "      <td>BMW</td>\n",
       "      <td>1 Series</td>\n",
       "      <td>2011</td>\n",
       "      <td>premium unleaded (required)</td>\n",
       "      <td>230.0</td>\n",
       "      <td>6.0</td>\n",
       "      <td>MANUAL</td>\n",
       "      <td>rear wheel drive</td>\n",
       "      <td>2.0</td>\n",
       "      <td>Luxury</td>\n",
       "      <td>Compact</td>\n",
       "      <td>Convertible</td>\n",
       "      <td>28</td>\n",
       "      <td>18</td>\n",
       "      <td>3916</td>\n",
       "      <td>34500</td>\n",
       "    </tr>\n",
       "  </tbody>\n",
       "</table>\n",
       "</div>"
      ],
      "text/plain": [
       "  Make       Model  Year             Engine Fuel Type  Engine HP  \\\n",
       "0  BMW  1 Series M  2011  premium unleaded (required)      335.0   \n",
       "1  BMW    1 Series  2011  premium unleaded (required)      300.0   \n",
       "2  BMW    1 Series  2011  premium unleaded (required)      300.0   \n",
       "3  BMW    1 Series  2011  premium unleaded (required)      230.0   \n",
       "4  BMW    1 Series  2011  premium unleaded (required)      230.0   \n",
       "\n",
       "   Engine Cylinders Transmission Type     Driven_Wheels  Number of Doors  \\\n",
       "0               6.0            MANUAL  rear wheel drive              2.0   \n",
       "1               6.0            MANUAL  rear wheel drive              2.0   \n",
       "2               6.0            MANUAL  rear wheel drive              2.0   \n",
       "3               6.0            MANUAL  rear wheel drive              2.0   \n",
       "4               6.0            MANUAL  rear wheel drive              2.0   \n",
       "\n",
       "                         Market Category Vehicle Size Vehicle Style  \\\n",
       "0  Factory Tuner,Luxury,High-Performance      Compact         Coupe   \n",
       "1                     Luxury,Performance      Compact   Convertible   \n",
       "2                Luxury,High-Performance      Compact         Coupe   \n",
       "3                     Luxury,Performance      Compact         Coupe   \n",
       "4                                 Luxury      Compact   Convertible   \n",
       "\n",
       "   highway MPG  city mpg  Popularity   MSRP  \n",
       "0           26        19        3916  46135  \n",
       "1           28        19        3916  40650  \n",
       "2           28        20        3916  36350  \n",
       "3           28        18        3916  29450  \n",
       "4           28        18        3916  34500  "
      ]
     },
     "execution_count": 100,
     "metadata": {},
     "output_type": "execute_result"
    },
    {
     "data": {
      "text/plain": [
       "<Figure size 640x480 with 0 Axes>"
      ]
     },
     "metadata": {},
     "output_type": "display_data"
    }
   ],
   "source": [
    "%run commons.py\n",
    "import pandas as pd\n",
    "import numpy as np\n",
    "import commons\n",
    "\n",
    "df = pd.read_csv('data.csv')\n",
    "df. head()"
   ]
  },
  {
   "cell_type": "markdown",
   "metadata": {},
   "source": [
    "Transform column names to lower and replace spaces by underscore"
   ]
  },
  {
   "cell_type": "code",
   "execution_count": 101,
   "metadata": {},
   "outputs": [
    {
     "data": {
      "text/html": [
       "<div>\n",
       "<style scoped>\n",
       "    .dataframe tbody tr th:only-of-type {\n",
       "        vertical-align: middle;\n",
       "    }\n",
       "\n",
       "    .dataframe tbody tr th {\n",
       "        vertical-align: top;\n",
       "    }\n",
       "\n",
       "    .dataframe thead th {\n",
       "        text-align: right;\n",
       "    }\n",
       "</style>\n",
       "<table border=\"1\" class=\"dataframe\">\n",
       "  <thead>\n",
       "    <tr style=\"text-align: right;\">\n",
       "      <th></th>\n",
       "      <th>make</th>\n",
       "      <th>model</th>\n",
       "      <th>year</th>\n",
       "      <th>engine_fuel_type</th>\n",
       "      <th>engine_hp</th>\n",
       "      <th>engine_cylinders</th>\n",
       "      <th>transmission_type</th>\n",
       "      <th>driven_wheels</th>\n",
       "      <th>number_of_doors</th>\n",
       "      <th>market_category</th>\n",
       "      <th>vehicle_size</th>\n",
       "      <th>vehicle_style</th>\n",
       "      <th>highway_mpg</th>\n",
       "      <th>city_mpg</th>\n",
       "      <th>popularity</th>\n",
       "      <th>msrp</th>\n",
       "    </tr>\n",
       "  </thead>\n",
       "  <tbody>\n",
       "    <tr>\n",
       "      <th>0</th>\n",
       "      <td>BMW</td>\n",
       "      <td>1 Series M</td>\n",
       "      <td>2011</td>\n",
       "      <td>premium unleaded (required)</td>\n",
       "      <td>335.0</td>\n",
       "      <td>6.0</td>\n",
       "      <td>MANUAL</td>\n",
       "      <td>rear wheel drive</td>\n",
       "      <td>2.0</td>\n",
       "      <td>Factory Tuner,Luxury,High-Performance</td>\n",
       "      <td>Compact</td>\n",
       "      <td>Coupe</td>\n",
       "      <td>26</td>\n",
       "      <td>19</td>\n",
       "      <td>3916</td>\n",
       "      <td>46135</td>\n",
       "    </tr>\n",
       "    <tr>\n",
       "      <th>1</th>\n",
       "      <td>BMW</td>\n",
       "      <td>1 Series</td>\n",
       "      <td>2011</td>\n",
       "      <td>premium unleaded (required)</td>\n",
       "      <td>300.0</td>\n",
       "      <td>6.0</td>\n",
       "      <td>MANUAL</td>\n",
       "      <td>rear wheel drive</td>\n",
       "      <td>2.0</td>\n",
       "      <td>Luxury,Performance</td>\n",
       "      <td>Compact</td>\n",
       "      <td>Convertible</td>\n",
       "      <td>28</td>\n",
       "      <td>19</td>\n",
       "      <td>3916</td>\n",
       "      <td>40650</td>\n",
       "    </tr>\n",
       "    <tr>\n",
       "      <th>2</th>\n",
       "      <td>BMW</td>\n",
       "      <td>1 Series</td>\n",
       "      <td>2011</td>\n",
       "      <td>premium unleaded (required)</td>\n",
       "      <td>300.0</td>\n",
       "      <td>6.0</td>\n",
       "      <td>MANUAL</td>\n",
       "      <td>rear wheel drive</td>\n",
       "      <td>2.0</td>\n",
       "      <td>Luxury,High-Performance</td>\n",
       "      <td>Compact</td>\n",
       "      <td>Coupe</td>\n",
       "      <td>28</td>\n",
       "      <td>20</td>\n",
       "      <td>3916</td>\n",
       "      <td>36350</td>\n",
       "    </tr>\n",
       "    <tr>\n",
       "      <th>3</th>\n",
       "      <td>BMW</td>\n",
       "      <td>1 Series</td>\n",
       "      <td>2011</td>\n",
       "      <td>premium unleaded (required)</td>\n",
       "      <td>230.0</td>\n",
       "      <td>6.0</td>\n",
       "      <td>MANUAL</td>\n",
       "      <td>rear wheel drive</td>\n",
       "      <td>2.0</td>\n",
       "      <td>Luxury,Performance</td>\n",
       "      <td>Compact</td>\n",
       "      <td>Coupe</td>\n",
       "      <td>28</td>\n",
       "      <td>18</td>\n",
       "      <td>3916</td>\n",
       "      <td>29450</td>\n",
       "    </tr>\n",
       "    <tr>\n",
       "      <th>4</th>\n",
       "      <td>BMW</td>\n",
       "      <td>1 Series</td>\n",
       "      <td>2011</td>\n",
       "      <td>premium unleaded (required)</td>\n",
       "      <td>230.0</td>\n",
       "      <td>6.0</td>\n",
       "      <td>MANUAL</td>\n",
       "      <td>rear wheel drive</td>\n",
       "      <td>2.0</td>\n",
       "      <td>Luxury</td>\n",
       "      <td>Compact</td>\n",
       "      <td>Convertible</td>\n",
       "      <td>28</td>\n",
       "      <td>18</td>\n",
       "      <td>3916</td>\n",
       "      <td>34500</td>\n",
       "    </tr>\n",
       "  </tbody>\n",
       "</table>\n",
       "</div>"
      ],
      "text/plain": [
       "  make       model  year             engine_fuel_type  engine_hp  \\\n",
       "0  BMW  1 Series M  2011  premium unleaded (required)      335.0   \n",
       "1  BMW    1 Series  2011  premium unleaded (required)      300.0   \n",
       "2  BMW    1 Series  2011  premium unleaded (required)      300.0   \n",
       "3  BMW    1 Series  2011  premium unleaded (required)      230.0   \n",
       "4  BMW    1 Series  2011  premium unleaded (required)      230.0   \n",
       "\n",
       "   engine_cylinders transmission_type     driven_wheels  number_of_doors  \\\n",
       "0               6.0            MANUAL  rear wheel drive              2.0   \n",
       "1               6.0            MANUAL  rear wheel drive              2.0   \n",
       "2               6.0            MANUAL  rear wheel drive              2.0   \n",
       "3               6.0            MANUAL  rear wheel drive              2.0   \n",
       "4               6.0            MANUAL  rear wheel drive              2.0   \n",
       "\n",
       "                         market_category vehicle_size vehicle_style  \\\n",
       "0  Factory Tuner,Luxury,High-Performance      Compact         Coupe   \n",
       "1                     Luxury,Performance      Compact   Convertible   \n",
       "2                Luxury,High-Performance      Compact         Coupe   \n",
       "3                     Luxury,Performance      Compact         Coupe   \n",
       "4                                 Luxury      Compact   Convertible   \n",
       "\n",
       "   highway_mpg  city_mpg  popularity   msrp  \n",
       "0           26        19        3916  46135  \n",
       "1           28        19        3916  40650  \n",
       "2           28        20        3916  36350  \n",
       "3           28        18        3916  29450  \n",
       "4           28        18        3916  34500  "
      ]
     },
     "execution_count": 101,
     "metadata": {},
     "output_type": "execute_result"
    }
   ],
   "source": [
    "df.columns = df.columns.str.lower().str.replace(' ', '_')\n",
    "df.head()"
   ]
  },
  {
   "cell_type": "markdown",
   "metadata": {},
   "source": [
    "Transform string values to lower and replace spaces by underscore"
   ]
  },
  {
   "cell_type": "code",
   "execution_count": 102,
   "metadata": {},
   "outputs": [
    {
     "data": {
      "text/html": [
       "<div>\n",
       "<style scoped>\n",
       "    .dataframe tbody tr th:only-of-type {\n",
       "        vertical-align: middle;\n",
       "    }\n",
       "\n",
       "    .dataframe tbody tr th {\n",
       "        vertical-align: top;\n",
       "    }\n",
       "\n",
       "    .dataframe thead th {\n",
       "        text-align: right;\n",
       "    }\n",
       "</style>\n",
       "<table border=\"1\" class=\"dataframe\">\n",
       "  <thead>\n",
       "    <tr style=\"text-align: right;\">\n",
       "      <th></th>\n",
       "      <th>make</th>\n",
       "      <th>model</th>\n",
       "      <th>year</th>\n",
       "      <th>engine_fuel_type</th>\n",
       "      <th>engine_hp</th>\n",
       "      <th>engine_cylinders</th>\n",
       "      <th>transmission_type</th>\n",
       "      <th>driven_wheels</th>\n",
       "      <th>number_of_doors</th>\n",
       "      <th>market_category</th>\n",
       "      <th>vehicle_size</th>\n",
       "      <th>vehicle_style</th>\n",
       "      <th>highway_mpg</th>\n",
       "      <th>city_mpg</th>\n",
       "      <th>popularity</th>\n",
       "      <th>msrp</th>\n",
       "    </tr>\n",
       "  </thead>\n",
       "  <tbody>\n",
       "    <tr>\n",
       "      <th>0</th>\n",
       "      <td>bmw</td>\n",
       "      <td>1_series_m</td>\n",
       "      <td>2011</td>\n",
       "      <td>premium_unleaded_(required)</td>\n",
       "      <td>335.0</td>\n",
       "      <td>6.0</td>\n",
       "      <td>manual</td>\n",
       "      <td>rear_wheel_drive</td>\n",
       "      <td>2.0</td>\n",
       "      <td>factory_tuner,luxury,high-performance</td>\n",
       "      <td>compact</td>\n",
       "      <td>coupe</td>\n",
       "      <td>26</td>\n",
       "      <td>19</td>\n",
       "      <td>3916</td>\n",
       "      <td>46135</td>\n",
       "    </tr>\n",
       "    <tr>\n",
       "      <th>1</th>\n",
       "      <td>bmw</td>\n",
       "      <td>1_series</td>\n",
       "      <td>2011</td>\n",
       "      <td>premium_unleaded_(required)</td>\n",
       "      <td>300.0</td>\n",
       "      <td>6.0</td>\n",
       "      <td>manual</td>\n",
       "      <td>rear_wheel_drive</td>\n",
       "      <td>2.0</td>\n",
       "      <td>luxury,performance</td>\n",
       "      <td>compact</td>\n",
       "      <td>convertible</td>\n",
       "      <td>28</td>\n",
       "      <td>19</td>\n",
       "      <td>3916</td>\n",
       "      <td>40650</td>\n",
       "    </tr>\n",
       "    <tr>\n",
       "      <th>2</th>\n",
       "      <td>bmw</td>\n",
       "      <td>1_series</td>\n",
       "      <td>2011</td>\n",
       "      <td>premium_unleaded_(required)</td>\n",
       "      <td>300.0</td>\n",
       "      <td>6.0</td>\n",
       "      <td>manual</td>\n",
       "      <td>rear_wheel_drive</td>\n",
       "      <td>2.0</td>\n",
       "      <td>luxury,high-performance</td>\n",
       "      <td>compact</td>\n",
       "      <td>coupe</td>\n",
       "      <td>28</td>\n",
       "      <td>20</td>\n",
       "      <td>3916</td>\n",
       "      <td>36350</td>\n",
       "    </tr>\n",
       "    <tr>\n",
       "      <th>3</th>\n",
       "      <td>bmw</td>\n",
       "      <td>1_series</td>\n",
       "      <td>2011</td>\n",
       "      <td>premium_unleaded_(required)</td>\n",
       "      <td>230.0</td>\n",
       "      <td>6.0</td>\n",
       "      <td>manual</td>\n",
       "      <td>rear_wheel_drive</td>\n",
       "      <td>2.0</td>\n",
       "      <td>luxury,performance</td>\n",
       "      <td>compact</td>\n",
       "      <td>coupe</td>\n",
       "      <td>28</td>\n",
       "      <td>18</td>\n",
       "      <td>3916</td>\n",
       "      <td>29450</td>\n",
       "    </tr>\n",
       "    <tr>\n",
       "      <th>4</th>\n",
       "      <td>bmw</td>\n",
       "      <td>1_series</td>\n",
       "      <td>2011</td>\n",
       "      <td>premium_unleaded_(required)</td>\n",
       "      <td>230.0</td>\n",
       "      <td>6.0</td>\n",
       "      <td>manual</td>\n",
       "      <td>rear_wheel_drive</td>\n",
       "      <td>2.0</td>\n",
       "      <td>luxury</td>\n",
       "      <td>compact</td>\n",
       "      <td>convertible</td>\n",
       "      <td>28</td>\n",
       "      <td>18</td>\n",
       "      <td>3916</td>\n",
       "      <td>34500</td>\n",
       "    </tr>\n",
       "  </tbody>\n",
       "</table>\n",
       "</div>"
      ],
      "text/plain": [
       "  make       model  year             engine_fuel_type  engine_hp  \\\n",
       "0  bmw  1_series_m  2011  premium_unleaded_(required)      335.0   \n",
       "1  bmw    1_series  2011  premium_unleaded_(required)      300.0   \n",
       "2  bmw    1_series  2011  premium_unleaded_(required)      300.0   \n",
       "3  bmw    1_series  2011  premium_unleaded_(required)      230.0   \n",
       "4  bmw    1_series  2011  premium_unleaded_(required)      230.0   \n",
       "\n",
       "   engine_cylinders transmission_type     driven_wheels  number_of_doors  \\\n",
       "0               6.0            manual  rear_wheel_drive              2.0   \n",
       "1               6.0            manual  rear_wheel_drive              2.0   \n",
       "2               6.0            manual  rear_wheel_drive              2.0   \n",
       "3               6.0            manual  rear_wheel_drive              2.0   \n",
       "4               6.0            manual  rear_wheel_drive              2.0   \n",
       "\n",
       "                         market_category vehicle_size vehicle_style  \\\n",
       "0  factory_tuner,luxury,high-performance      compact         coupe   \n",
       "1                     luxury,performance      compact   convertible   \n",
       "2                luxury,high-performance      compact         coupe   \n",
       "3                     luxury,performance      compact         coupe   \n",
       "4                                 luxury      compact   convertible   \n",
       "\n",
       "   highway_mpg  city_mpg  popularity   msrp  \n",
       "0           26        19        3916  46135  \n",
       "1           28        19        3916  40650  \n",
       "2           28        20        3916  36350  \n",
       "3           28        18        3916  29450  \n",
       "4           28        18        3916  34500  "
      ]
     },
     "execution_count": 102,
     "metadata": {},
     "output_type": "execute_result"
    }
   ],
   "source": [
    "string_columns = df.dtypes[df.dtypes == 'object'].index\n",
    "for column in string_columns:\n",
    "    df[column] = df[column].str.lower().str.replace(' ', '_')\n",
    "\n",
    "df.head()"
   ]
  },
  {
   "cell_type": "markdown",
   "metadata": {},
   "source": [
    "Check distribution of the target variable"
   ]
  },
  {
   "cell_type": "code",
   "execution_count": 103,
   "metadata": {},
   "outputs": [
    {
     "data": {
      "text/plain": [
       "<AxesSubplot:xlabel='msrp', ylabel='Count'>"
      ]
     },
     "execution_count": 103,
     "metadata": {},
     "output_type": "execute_result"
    },
    {
     "data": {
      "image/png": "[encoded data removed]",
      "text/plain": [
       "<Figure size 640x480 with 1 Axes>"
      ]
     },
     "metadata": {},
     "output_type": "display_data"
    }
   ],
   "source": [
    "import matplotlib.pyplot as plt\n",
    "import seaborn as sbn\n",
    "\n",
    "%matplotlib inline\n",
    "sbn.histplot(df.msrp)"
   ]
  },
  {
   "cell_type": "markdown",
   "metadata": {},
   "source": [
    "> **IMPORTANT:** Notice there is a long tail in the distribution. Then we need to get rid of that long tail to get a good performance of our ML-model. Logaritmic function is commonly used for this purpose."
   ]
  },
  {
   "cell_type": "code",
   "execution_count": 104,
   "metadata": {},
   "outputs": [
    {
     "data": {
      "text/plain": [
       "<AxesSubplot:xlabel='msrp', ylabel='Count'>"
      ]
     },
     "execution_count": 104,
     "metadata": {},
     "output_type": "execute_result"
    },
    {
     "data": {
      "image/png": "[encoded data removed]",
      "text/plain": [
       "<Figure size 640x480 with 1 Axes>"
      ]
     },
     "metadata": {},
     "output_type": "display_data"
    }
   ],
   "source": [
    "log_price = np.log1p(df.msrp)\n",
    "sbn.histplot(log_price)"
   ]
  },
  {
   "cell_type": "markdown",
   "metadata": {},
   "source": [
    "Check the graph above. Notice that the grpah is much better now, it is close to normal distribution function which is excelent for ML-models (ML-models get very good performance if the targte variable has a quasi-normal distribution)"
   ]
  },
  {
   "cell_type": "markdown",
   "metadata": {},
   "source": [
    "### Check missing values"
   ]
  },
  {
   "cell_type": "code",
   "execution_count": 105,
   "metadata": {},
   "outputs": [
    {
     "data": {
      "text/plain": [
       "make                    0\n",
       "model                   0\n",
       "year                    0\n",
       "engine_fuel_type        3\n",
       "engine_hp              69\n",
       "engine_cylinders       30\n",
       "transmission_type       0\n",
       "driven_wheels           0\n",
       "number_of_doors         6\n",
       "market_category      3742\n",
       "vehicle_size            0\n",
       "vehicle_style           0\n",
       "highway_mpg             0\n",
       "city_mpg                0\n",
       "popularity              0\n",
       "msrp                    0\n",
       "dtype: int64"
      ]
     },
     "execution_count": 105,
     "metadata": {},
     "output_type": "execute_result"
    }
   ],
   "source": [
    "df.isnull().sum()"
   ]
  },
  {
   "cell_type": "markdown",
   "metadata": {},
   "source": [
    "### Setting up validation framework"
   ]
  },
  {
   "cell_type": "code",
   "execution_count": 106,
   "metadata": {},
   "outputs": [],
   "source": [
    "df_train, df_val, df_test = commons.split_train_val_test(df, random_seed=2)\n",
    "\n",
    "y_train = np.log1p(df_train.msrp.to_numpy())\n",
    "y_val = np.log1p(df_val.msrp.to_numpy())\n",
    "y_test = np.log1p(df_test.msrp.to_numpy())\n",
    "\n",
    "target_column = 'msrp'\n",
    "\n",
    "del df_train[target_column]\n",
    "del df_val[target_column]\n",
    "del df_test[target_column]"
   ]
  },
  {
   "cell_type": "markdown",
   "metadata": {},
   "source": [
    "### Baseline solution"
   ]
  },
  {
   "cell_type": "code",
   "execution_count": 107,
   "metadata": {},
   "outputs": [],
   "source": [
    "base_columns = ['engine_hp', 'engine_cylinders', 'highway_mpg', 'city_mpg', 'popularity']\n",
    "\n",
    "class BaseLineModel(commons.RegressionNormalFormModel):\n",
    "    def extract_matrix_features(self, df: pd.DataFrame) -> np.ndarray:\n",
    "        return df[base_columns].fillna(0).to_numpy()\n",
    "        \n",
    "\n",
    "base_model = BaseLineModel()\n",
    "X_train = base_model.prepare_X(df_train)\n",
    "base_model.train(X_train, y_train)\n",
    "y_pred = base_model.predict(X=X_train)\n"
   ]
  },
  {
   "cell_type": "code",
   "execution_count": 108,
   "metadata": {},
   "outputs": [
    {
     "data": {
      "image/png": "[encoded data removed]",
      "text/plain": [
       "<Figure size 600x400 with 1 Axes>"
      ]
     },
     "metadata": {},
     "output_type": "display_data"
    }
   ],
   "source": [
    "plt.figure(figsize=(6, 4))\n",
    "\n",
    "sbn.histplot(y_train, label='target', color='#222222', alpha=0.6, bins=40)\n",
    "sbn.histplot(y_pred, label='prediction', color='#aaaaaa', alpha=0.8, bins=40)\n",
    "\n",
    "plt.legend()\n",
    "\n",
    "plt.ylabel('Frequency')\n",
    "plt.xlabel('Log(Price + 1)')\n",
    "plt.title('Predictions vs actual distribution')\n",
    "\n",
    "plt.show()"
   ]
  },
  {
   "cell_type": "code",
   "execution_count": 109,
   "metadata": {},
   "outputs": [
    {
     "name": "stdout",
     "output_type": "stream",
     "text": [
      "Train error:  0.7554591756909307\n",
      "Validation error:  0.7618297535729615\n"
     ]
    }
   ],
   "source": [
    "train_error = commons.msre(y_pred, y_train)\n",
    "validation_error = commons.msre(base_model.predict(df=df_val), y_val)\n",
    "print(\"Train error: \", train_error)\n",
    "print(\"Validation error: \", validation_error)"
   ]
  },
  {
   "cell_type": "markdown",
   "metadata": {},
   "source": [
    "### Simple feature engineering"
   ]
  },
  {
   "cell_type": "code",
   "execution_count": 110,
   "metadata": {},
   "outputs": [],
   "source": [
    "class SimpleFeatureEngineringModel(commons.RegressionNormalFormModel):\n",
    "    def __init__(self, categorical_columns_to_use=[], top_values_to_use=5) -> None:\n",
    "        super().__init__()\n",
    "        self.categorical_columns_to_use = categorical_columns_to_use\n",
    "        self.top_values_to_use = top_values_to_use\n",
    "        self.category_values_map = None\n",
    "\n",
    "    def one_hot_encoder(self, df: pd.DataFrame, columns: np.array, pick_top_categories: int) -> np.ndarray:\n",
    "        if self.category_values_map is None:\n",
    "            self.category_values_map = {}\n",
    "            for column in columns:\n",
    "                idx = df[column].value_counts().head(pick_top_categories).index\n",
    "                self.category_values_map[column] = idx\n",
    "        response = None\n",
    "        for column,idx in self.category_values_map.items():\n",
    "            for v in idx:\n",
    "                has_column_value_v = (df[column] == v).astype(int).values\n",
    "                response = has_column_value_v if response is None else np.column_stack((response, has_column_value_v))\n",
    "        return response\n",
    "\n",
    "    def extract_matrix_features(self, df: pd.DataFrame) -> np.ndarray:\n",
    "        X = df[base_columns].fillna(0).to_numpy()\n",
    "        X = np.column_stack(\n",
    "            (\n",
    "                X, \n",
    "                2017 - df['year'].to_numpy(), # Adding a column with the `age = 2017 - year(of frabication)`\n",
    "                self.one_hot_encoder(df, self.categorical_columns_to_use, pick_top_categories=self.top_values_to_use) # Adding categorical columns   \n",
    "            ))\n",
    "        return X\n",
    "\n",
    "\n",
    "sfe_model = SimpleFeatureEngineringModel(categorical_columns_to_use=['number_of_doors', 'make'], top_values_to_use=5)\n",
    "X_train = sfe_model.prepare_X(df_train)\n",
    "sfe_model.train(X_train, y_train)\n",
    "y_pred = sfe_model.predict(X=X_train)"
   ]
  },
  {
   "cell_type": "code",
   "execution_count": 111,
   "metadata": {},
   "outputs": [
    {
     "data": {
      "image/png": "[encoded data removed]",
      "text/plain": [
       "<Figure size 600x400 with 1 Axes>"
      ]
     },
     "metadata": {},
     "output_type": "display_data"
    }
   ],
   "source": [
    "plt.figure(figsize=(6, 4))\n",
    "\n",
    "sbn.histplot(y_train, label='target', color='#222222', alpha=0.6, bins=40)\n",
    "sbn.histplot(y_pred, label='prediction', color='#aaaaaa', alpha=0.8, bins=40)\n",
    "\n",
    "plt.legend()\n",
    "\n",
    "plt.ylabel('Frequency')\n",
    "plt.xlabel('Log(Price + 1)')\n",
    "plt.title('Predictions vs actual distribution')\n",
    "\n",
    "plt.show()"
   ]
  },
  {
   "cell_type": "code",
   "execution_count": 112,
   "metadata": {},
   "outputs": [
    {
     "name": "stdout",
     "output_type": "stream",
     "text": [
      "Train error:  0.505930401897355\n",
      "Validation error:  0.5074572881972735\n"
     ]
    }
   ],
   "source": [
    "train_error = commons.msre(y_pred, y_train)\n",
    "validation_error = commons.msre(sfe_model.predict(df=df_val), y_val)\n",
    "print(\"Train error: \", train_error)\n",
    "print(\"Validation error: \", validation_error)"
   ]
  },
  {
   "cell_type": "markdown",
   "metadata": {},
   "source": [
    "### Adding column `engine_fuel_type`"
   ]
  },
  {
   "cell_type": "code",
   "execution_count": 113,
   "metadata": {},
   "outputs": [
    {
     "name": "stdout",
     "output_type": "stream",
     "text": [
      "Train error:  0.47816685213716603\n",
      "Validation error:  0.4741479227441756\n"
     ]
    }
   ],
   "source": [
    "sfe_model = SimpleFeatureEngineringModel(categorical_columns_to_use=['number_of_doors', 'make', 'engine_fuel_type'], top_values_to_use=5)\n",
    "X_train = sfe_model.prepare_X(df_train)\n",
    "sfe_model.train(X_train, y_train)\n",
    "y_pred = sfe_model.predict(X=X_train)\n",
    "\n",
    "train_error = commons.msre(y_pred, y_train)\n",
    "validation_error = commons.msre(sfe_model.predict(df=df_val), y_val)\n",
    "print(\"Train error: \", train_error)\n",
    "print(\"Validation error: \", validation_error)"
   ]
  },
  {
   "cell_type": "markdown",
   "metadata": {},
   "source": [
    "### Adding column `transmission_type`"
   ]
  },
  {
   "cell_type": "code",
   "execution_count": 114,
   "metadata": {},
   "outputs": [
    {
     "name": "stdout",
     "output_type": "stream",
     "text": [
      "Train error:  0.4702943081869225\n",
      "Validation error:  0.4655999934528969\n"
     ]
    }
   ],
   "source": [
    "\n",
    "sfe_model = SimpleFeatureEngineringModel(categorical_columns_to_use=['number_of_doors', 'make', 'engine_fuel_type', 'transmission_type'], top_values_to_use=5)\n",
    "X_train = sfe_model.prepare_X(df_train)\n",
    "sfe_model.train(X_train, y_train)\n",
    "y_pred = sfe_model.predict(X=X_train)\n",
    "\n",
    "train_error = commons.msre(y_pred, y_train)\n",
    "validation_error = commons.msre(sfe_model.predict(df=df_val), y_val)\n",
    "print(\"Train error: \", train_error)\n",
    "print(\"Validation error: \", validation_error)"
   ]
  },
  {
   "cell_type": "markdown",
   "metadata": {},
   "source": [
    "### Adding columns `driven_wheels`, `market_category`, `vehicle_size`, `vehicle_style`"
   ]
  },
  {
   "cell_type": "code",
   "execution_count": 115,
   "metadata": {},
   "outputs": [
    {
     "name": "stdout",
     "output_type": "stream",
     "text": [
      "Train error:  0.46024472901543\n",
      "Validation error:  0.45646666563847177\n"
     ]
    }
   ],
   "source": [
    "sfe_model = SimpleFeatureEngineringModel(categorical_columns_to_use=[\n",
    "    'number_of_doors', \n",
    "    'make', \n",
    "    'engine_fuel_type', \n",
    "    'transmission_type', \n",
    "    'driven_wheels', \n",
    "    'market_category', \n",
    "    'vehicle_size', \n",
    "    'vehicle_style'\n",
    "    ], top_values_to_use=5)\n",
    "X_train = sfe_model.prepare_X(df_train)\n",
    "sfe_model.train(X_train, y_train)\n",
    "y_pred = sfe_model.predict(X=X_train)\n",
    "\n",
    "train_error = commons.msre(y_pred, y_train)\n",
    "validation_error = commons.msre(sfe_model.predict(df=df_val), y_val)\n",
    "print(\"Train error: \", train_error)\n",
    "print(\"Validation error: \", validation_error)"
   ]
  },
  {
   "cell_type": "markdown",
   "metadata": {},
   "source": [
    "### Applying regularization"
   ]
  },
  {
   "cell_type": "code",
   "execution_count": 116,
   "metadata": {},
   "outputs": [
    {
     "name": "stdout",
     "output_type": "stream",
     "text": [
      "Reg:  0\n",
      "Train error:  0.46024472901543\n",
      "Validation error:  0.45646666563847177\n",
      "\n",
      "Reg:  0.001\n",
      "Train error:  0.4602447313054438\n",
      "Validation error:  0.4564671469130828\n",
      "\n",
      "Reg:  0.01\n",
      "Train error:  0.46024495559545425\n",
      "Validation error:  0.45647150526600466\n",
      "\n",
      "Reg:  0.1\n",
      "Train error:  0.4602651853118151\n",
      "Validation error:  0.45651759517679624\n",
      "\n",
      "Reg:  1\n",
      "Train error:  0.4612225158315918\n",
      "Validation error:  0.45715914390329493\n",
      "\n",
      "Reg:  10\n",
      "Train error:  0.47473625354940485\n",
      "Validation error:  0.47005207434235663\n",
      "\n"
     ]
    }
   ],
   "source": [
    "for r in [0, 0.001, 0.01, 0.1, 1, 10]:\n",
    "    sfe_model = SimpleFeatureEngineringModel(categorical_columns_to_use=[\n",
    "        'number_of_doors', \n",
    "        'make', \n",
    "        'engine_fuel_type', \n",
    "        'transmission_type', \n",
    "        'driven_wheels', \n",
    "        'market_category', \n",
    "        'vehicle_size', \n",
    "        'vehicle_style'\n",
    "        ], top_values_to_use=5)\n",
    "    X_train = sfe_model.prepare_X(df_train)\n",
    "    sfe_model.train(X_train, y_train, reg=r)\n",
    "    y_pred = sfe_model.predict(X=X_train)\n",
    "\n",
    "    train_error = commons.msre(y_pred, y_train)\n",
    "    validation_error = commons.msre(sfe_model.predict(df=df_val), y_val)\n",
    "    print(\"Reg: \", r)\n",
    "    print(\"Train error: \", train_error)\n",
    "    print(\"Validation error: \", validation_error)\n",
    "    print()"
   ]
  },
  {
   "cell_type": "markdown",
   "metadata": {},
   "source": [
    "Without regularization the model behaves better"
   ]
  },
  {
   "cell_type": "markdown",
   "metadata": {},
   "source": [
    "> **IMPORTANT NOTE:** Until here is what is discussed in the regression lesson of ML-zoomcamp, in next sections I dive deeper in the feature extraction."
   ]
  },
  {
   "cell_type": "markdown",
   "metadata": {},
   "source": [
    "### Adding more than 5 top categories' values"
   ]
  },
  {
   "cell_type": "code",
   "execution_count": 117,
   "metadata": {},
   "outputs": [
    {
     "name": "stdout",
     "output_type": "stream",
     "text": [
      "number_of_doors 3\n",
      "make 48\n",
      "engine_fuel_type 10\n",
      "transmission_type 5\n",
      "driven_wheels 4\n",
      "market_category 71\n",
      "vehicle_size 3\n",
      "vehicle_style 16\n"
     ]
    }
   ],
   "source": [
    "for c in [\n",
    "            'number_of_doors', \n",
    "            'make', \n",
    "            'engine_fuel_type', \n",
    "            'transmission_type', \n",
    "            'driven_wheels', \n",
    "            'market_category', \n",
    "            'vehicle_size', \n",
    "            'vehicle_style'\n",
    "            ]:\n",
    "    print(c, df[c].value_counts().shape[0])"
   ]
  },
  {
   "cell_type": "code",
   "execution_count": 118,
   "metadata": {},
   "outputs": [
    {
     "name": "stdout",
     "output_type": "stream",
     "text": [
      "Top categories:  5\n",
      "Reg:  0\n",
      "Train error:  0.46024472901543\n",
      "Validation error:  0.45646666563847177\n",
      "\n",
      "Top categories:  7\n",
      "Reg:  0\n",
      "Train error:  0.4536546937511136\n",
      "Validation error:  0.45087077415435356\n",
      "\n",
      "Top categories:  10\n",
      "Reg:  0\n",
      "Train error:  0.44560301648341255\n",
      "Validation error:  0.4422523715292123\n",
      "\n",
      "Top categories:  48\n",
      "Reg:  0\n",
      "Train error:  0.401634786573494\n",
      "Validation error:  0.4107091484619655\n",
      "\n",
      "Top categories:  5\n",
      "Reg:  0.001\n",
      "Train error:  0.4602447313054438\n",
      "Validation error:  0.4564671469130828\n",
      "\n",
      "Top categories:  7\n",
      "Reg:  0.001\n",
      "Train error:  0.4536546959730992\n",
      "Validation error:  0.45087105872830513\n",
      "\n",
      "Top categories:  10\n",
      "Reg:  0.001\n",
      "Train error:  0.445603026180096\n",
      "Validation error:  0.4422477253989814\n",
      "\n",
      "Top categories:  48\n",
      "Reg:  0.001\n",
      "Train error:  0.4016347956228215\n",
      "Validation error:  0.4107041816356491\n",
      "\n",
      "Top categories:  5\n",
      "Reg:  0.01\n",
      "Train error:  0.46024495559545425\n",
      "Validation error:  0.45647150526600466\n",
      "\n",
      "Top categories:  7\n",
      "Reg:  0.01\n",
      "Train error:  0.4536549134138109\n",
      "Validation error:  0.4508736825365969\n",
      "\n",
      "Top categories:  10\n",
      "Reg:  0.01\n",
      "Train error:  0.4456038618790079\n",
      "Validation error:  0.44221371504467427\n",
      "\n",
      "Top categories:  48\n",
      "Reg:  0.01\n",
      "Train error:  0.401635643038355\n",
      "Validation error:  0.41066230918847546\n",
      "\n",
      "Top categories:  5\n",
      "Reg:  0.1\n",
      "Train error:  0.4602651853118151\n",
      "Validation error:  0.45651759517679624\n",
      "\n",
      "Top categories:  7\n",
      "Reg:  0.1\n",
      "Train error:  0.4536743733255929\n",
      "Validation error:  0.45090546819422284\n",
      "\n",
      "Top categories:  10\n",
      "Reg:  0.1\n",
      "Train error:  0.44563932909235693\n",
      "Validation error:  0.44216835990508024\n",
      "\n",
      "Top categories:  48\n",
      "Reg:  0.1\n",
      "Train error:  0.4016961548362451\n",
      "Validation error:  0.41038714996513004\n",
      "\n",
      "Top categories:  5\n",
      "Reg:  1\n",
      "Train error:  0.4612225158315918\n",
      "Validation error:  0.45715914390329493\n",
      "\n",
      "Top categories:  7\n",
      "Reg:  1\n",
      "Train error:  0.454549044120523\n",
      "Validation error:  0.4515055081655989\n",
      "\n",
      "Top categories:  10\n",
      "Reg:  1\n",
      "Train error:  0.44640469925016246\n",
      "Validation error:  0.44294133454097434\n",
      "\n",
      "Top categories:  48\n",
      "Reg:  1\n",
      "Train error:  0.40362337685262273\n",
      "Validation error:  0.41033101254053805\n",
      "\n",
      "Top categories:  5\n",
      "Reg:  10\n",
      "Train error:  0.47473625354940485\n",
      "Validation error:  0.47005207434235663\n",
      "\n",
      "Top categories:  7\n",
      "Reg:  10\n",
      "Train error:  0.46654865866089074\n",
      "Validation error:  0.46350587745536187\n",
      "\n",
      "Top categories:  10\n",
      "Reg:  10\n",
      "Train error:  0.45794432984508704\n",
      "Validation error:  0.4552917603323339\n",
      "\n",
      "Top categories:  48\n",
      "Reg:  10\n",
      "Train error:  0.42323311561386256\n",
      "Validation error:  0.42760688882387715\n",
      "\n",
      "0.41033101254053805\n",
      "(48, 1)\n"
     ]
    }
   ],
   "source": [
    "best_model = None\n",
    "best_validation = 100000000\n",
    "for r in [0, 0.001, 0.01, 0.1, 1, 10]:\n",
    "    for t in [5, 7, 10, 48]:\n",
    "        sfe_model = SimpleFeatureEngineringModel(categorical_columns_to_use=[\n",
    "            'number_of_doors', \n",
    "            'make', \n",
    "            'engine_fuel_type', \n",
    "            'transmission_type', \n",
    "            'driven_wheels', \n",
    "            'market_category', \n",
    "            'vehicle_size', \n",
    "            'vehicle_style'\n",
    "            ], top_values_to_use=t)\n",
    "        X_train = sfe_model.prepare_X(df_train)\n",
    "        sfe_model.train(X_train, y_train, reg=r)\n",
    "        y_pred = sfe_model.predict(X=X_train)\n",
    "\n",
    "        train_error = commons.msre(y_pred, y_train)\n",
    "        validation_error = commons.msre(sfe_model.predict(df=df_val), y_val)\n",
    "        print(\"Top categories: \", t)\n",
    "        print(\"Reg: \", r)\n",
    "        print(\"Train error: \", train_error)\n",
    "        print(\"Validation error: \", validation_error)\n",
    "        print()\n",
    "        if (validation_error<best_validation):\n",
    "            best_validation = validation_error\n",
    "            best_model = (t, r)\n",
    "print(best_validation)\n",
    "print(best_model)"
   ]
  },
  {
   "cell_type": "markdown",
   "metadata": {},
   "source": [
    "### Engineering `market_category` column"
   ]
  },
  {
   "cell_type": "code",
   "execution_count": 119,
   "metadata": {},
   "outputs": [
    {
     "data": {
      "text/plain": [
       "0    factory_tuner,luxury,high-performance\n",
       "1                       luxury,performance\n",
       "2                  luxury,high-performance\n",
       "3                       luxury,performance\n",
       "4                                   luxury\n",
       "Name: market_category, dtype: object"
      ]
     },
     "execution_count": 119,
     "metadata": {},
     "output_type": "execute_result"
    }
   ],
   "source": [
    "df.market_category.head()"
   ]
  },
  {
   "cell_type": "markdown",
   "metadata": {},
   "source": [
    "Notice that this column has comma-separable values, we can add a new categorical column for each of these values.\n",
    "> For example: if a car $X$ has `market_category='luxury,performance'` then this can be transformed to `luxury=1`, `performance=1`, `factory_turner=0` and aso on with any other categorical value present in the dataframe which is not in this specific car"
   ]
  },
  {
   "cell_type": "code",
   "execution_count": 120,
   "metadata": {},
   "outputs": [
    {
     "data": {
      "text/plain": [
       "['hybrid',\n",
       " 'diesel',\n",
       " 'performance',\n",
       " 'high-performance',\n",
       " 'flex_fuel',\n",
       " 'exotic',\n",
       " 'luxury',\n",
       " 'factory_tuner',\n",
       " 'crossover',\n",
       " 'hatchback']"
      ]
     },
     "execution_count": 120,
     "metadata": {},
     "output_type": "execute_result"
    }
   ],
   "source": [
    "ls = df.market_category.str.split(',').to_list()\n",
    "s = set()\n",
    "for l in ls:\n",
    "    if type(l) is list:\n",
    "        for v in l:\n",
    "            s.add(v)\n",
    "market_categories = list(s)\n",
    "market_categories"
   ]
  },
  {
   "cell_type": "markdown",
   "metadata": {},
   "source": [
    "Check that we only need to add 10 columns, while previously we were considering as columns combinations of these values"
   ]
  },
  {
   "cell_type": "code",
   "execution_count": 121,
   "metadata": {},
   "outputs": [
    {
     "name": "stdout",
     "output_type": "stream",
     "text": [
      "Top categories:  5\n",
      "Reg:  0\n",
      "Train error:  0.4319028943888499\n",
      "Validation error:  0.43076452556970585\n",
      "\n",
      "Top categories:  7\n",
      "Reg:  0\n",
      "Train error:  0.42778674844044945\n",
      "Validation error:  0.4250849958082839\n",
      "\n",
      "Top categories:  10\n",
      "Reg:  0\n",
      "Train error:  0.42588999649877846\n",
      "Validation error:  0.4228338165675457\n",
      "\n",
      "Top categories:  48\n",
      "Reg:  0\n",
      "Train error:  0.40533989832747314\n",
      "Validation error:  0.40726959354619946\n",
      "\n",
      "Top categories:  5\n",
      "Reg:  0.001\n",
      "Train error:  0.43190289601686777\n",
      "Validation error:  0.43076380418131643\n",
      "\n",
      "Top categories:  7\n",
      "Reg:  0.001\n",
      "Train error:  0.42778675026787916\n",
      "Validation error:  0.4250850013669068\n",
      "\n",
      "Top categories:  10\n",
      "Reg:  0.001\n",
      "Train error:  0.42589000594825144\n",
      "Validation error:  0.42282873857348197\n",
      "\n",
      "Top categories:  48\n",
      "Reg:  0.001\n",
      "Train error:  0.4053399059812722\n",
      "Validation error:  0.40726727086672593\n",
      "\n",
      "Top categories:  5\n",
      "Reg:  0.01\n",
      "Train error:  0.4319030558751857\n",
      "Validation error:  0.4307573809078188\n",
      "\n",
      "Top categories:  7\n",
      "Reg:  0.01\n",
      "Train error:  0.427786928575522\n",
      "Validation error:  0.42508520343234907\n",
      "\n",
      "Top categories:  10\n",
      "Reg:  0.01\n",
      "Train error:  0.42589082449624016\n",
      "Validation error:  0.4227907270907397\n",
      "\n",
      "Top categories:  48\n",
      "Reg:  0.01\n",
      "Train error:  0.4053406106540202\n",
      "Validation error:  0.40724926666553873\n",
      "\n",
      "Top categories:  5\n",
      "Reg:  0.1\n",
      "Train error:  0.43191783981002446\n",
      "Validation error:  0.43069988336376264\n",
      "\n",
      "Top categories:  7\n",
      "Reg:  0.1\n",
      "Train error:  0.42780257321578435\n",
      "Validation error:  0.4250990538281288\n",
      "\n",
      "Top categories:  10\n",
      "Reg:  0.1\n",
      "Train error:  0.4259268059759051\n",
      "Validation error:  0.42271170084610654\n",
      "\n",
      "Top categories:  48\n",
      "Reg:  0.1\n",
      "Train error:  0.4053868186019444\n",
      "Validation error:  0.40719501732734226\n",
      "\n",
      "Top categories:  5\n",
      "Reg:  1\n",
      "Train error:  0.43277588354404645\n",
      "Validation error:  0.4306945831112562\n",
      "\n",
      "Top categories:  7\n",
      "Reg:  1\n",
      "Train error:  0.4285602023733124\n",
      "Validation error:  0.42564563777981523\n",
      "\n",
      "Top categories:  10\n",
      "Reg:  1\n",
      "Train error:  0.42672673060106014\n",
      "Validation error:  0.4234576320244714\n",
      "\n",
      "Top categories:  48\n",
      "Reg:  1\n",
      "Train error:  0.4067873709248298\n",
      "Validation error:  0.4079547505932678\n",
      "\n",
      "Top categories:  5\n",
      "Reg:  10\n",
      "Train error:  0.44875583708409245\n",
      "Validation error:  0.4452209832880964\n",
      "\n",
      "Top categories:  7\n",
      "Reg:  10\n",
      "Train error:  0.4435631168621009\n",
      "Validation error:  0.44054110215842873\n",
      "\n",
      "Top categories:  10\n",
      "Reg:  10\n",
      "Train error:  0.4412736449071805\n",
      "Validation error:  0.4381957913572371\n",
      "\n",
      "Top categories:  48\n",
      "Reg:  10\n",
      "Train error:  0.4224299598914917\n",
      "Validation error:  0.4230978709203463\n",
      "\n",
      "0.40719501732734226\n",
      "(48, 0.1)\n"
     ]
    }
   ],
   "source": [
    "class NotSoSimpleFeatureEngineringModel(commons.RegressionNormalFormModel):\n",
    "    def __init__(self, categorical_columns_to_use=[], top_values_to_use=5) -> None:\n",
    "        super().__init__()\n",
    "        self.categorical_columns_to_use = categorical_columns_to_use\n",
    "        self.top_values_to_use = top_values_to_use\n",
    "        self.category_values_map = None\n",
    "\n",
    "    def one_hot_encoder(self, df: pd.DataFrame, columns: np.array, pick_top_categories: int) -> np.ndarray:\n",
    "        if self.category_values_map is None:\n",
    "            self.category_values_map = {}\n",
    "            for column in columns:\n",
    "                idx = df[column].value_counts().head(pick_top_categories).index\n",
    "                self.category_values_map[column] = idx\n",
    "        response = None\n",
    "        for column,idx in self.category_values_map.items():\n",
    "            for v in idx:\n",
    "                has_column_value_v = (df[column] == v).astype(int).values\n",
    "                response = has_column_value_v if response is None else np.column_stack((response, has_column_value_v))\n",
    "        return response\n",
    "\n",
    "    def extract_matrix_features(self, df: pd.DataFrame) -> np.ndarray:\n",
    "        X = df[base_columns].fillna(0).to_numpy()\n",
    "        for cat in ['hybrid', 'diesel', 'performance', 'high-performance', 'flex_fuel', 'exotic', 'luxury', 'factory_tuner', 'crossover', 'hatchback']:\n",
    "            X = np.column_stack((X, df['market_category'].str.contains(cat).fillna(0).astype(int)))\n",
    "        X = np.column_stack(\n",
    "            (\n",
    "                X, \n",
    "                2017 - df['year'].to_numpy(), # Adding a column with the `age = 2017 - year(of frabication)`\n",
    "                self.one_hot_encoder(df, self.categorical_columns_to_use, pick_top_categories=self.top_values_to_use) # Adding categorical columns   \n",
    "            ))\n",
    "        return X\n",
    "\n",
    "best_model = None\n",
    "best_validation = 100000000\n",
    "for r in [0, 0.001, 0.01, 0.1, 1, 10]:\n",
    "    for t in [5, 7, 10, 48]:\n",
    "        sfe_model = NotSoSimpleFeatureEngineringModel(categorical_columns_to_use=[\n",
    "            'number_of_doors', \n",
    "            'make', \n",
    "            'engine_fuel_type', \n",
    "            'transmission_type', \n",
    "            'driven_wheels', \n",
    "            # 'market_category', this is no longer used\n",
    "            'vehicle_size', \n",
    "            'vehicle_style'\n",
    "            ], top_values_to_use=t)\n",
    "        X_train = sfe_model.prepare_X(df_train)\n",
    "        sfe_model.train(X_train, y_train, reg=r)\n",
    "        y_pred = sfe_model.predict(X=X_train)\n",
    "\n",
    "        train_error = commons.msre(y_pred, y_train)\n",
    "        validation_error = commons.msre(sfe_model.predict(df=df_val), y_val)\n",
    "        print(\"Top categories: \", t)\n",
    "        print(\"Reg: \", r)\n",
    "        print(\"Train error: \", train_error)\n",
    "        print(\"Validation error: \", validation_error)\n",
    "        print()\n",
    "        if (validation_error<best_validation):\n",
    "            best_validation = validation_error\n",
    "            best_model = (t, r)\n",
    "print(best_validation)\n",
    "print(best_model)"
   ]
  },
  {
   "cell_type": "code",
   "execution_count": 122,
   "metadata": {},
   "outputs": [
    {
     "data": {
      "image/png": "[encoded data removed]",
      "text/plain": [
       "<Figure size 600x400 with 1 Axes>"
      ]
     },
     "metadata": {},
     "output_type": "display_data"
    }
   ],
   "source": [
    "sfe_model = NotSoSimpleFeatureEngineringModel(categorical_columns_to_use=[\n",
    "    'number_of_doors', \n",
    "    'make', \n",
    "    'engine_fuel_type', \n",
    "    'transmission_type', \n",
    "    'driven_wheels', \n",
    "    # 'market_category', this is no longer used\n",
    "    'vehicle_size', \n",
    "    'vehicle_style'\n",
    "    ], top_values_to_use=48)\n",
    "X_train = sfe_model.prepare_X(df_train)\n",
    "sfe_model.train(X_train, y_train, reg=0.1)\n",
    "y_pred = sfe_model.predict(X=X_train)\n",
    "\n",
    "plt.figure(figsize=(6, 4))\n",
    "\n",
    "sbn.histplot(y_train, label='target', color='#222222', alpha=0.6, bins=40)\n",
    "sbn.histplot(y_pred, label='prediction', color='#aaaaaa', alpha=0.8, bins=40)\n",
    "\n",
    "plt.legend()\n",
    "\n",
    "plt.ylabel('Frequency')\n",
    "plt.xlabel('Log(Price + 1)')\n",
    "plt.title('Predictions vs actual distribution')\n",
    "\n",
    "plt.show()"
   ]
  },
  {
   "cell_type": "markdown",
   "metadata": {},
   "source": [
    "## Compare this last solution with Autogluon"
   ]
  },
  {
   "cell_type": "code",
   "execution_count": null,
   "metadata": {},
   "outputs": [],
   "source": [
    "# TODO: Use autogluon and check the performance against my best solution using regression in normal form"
   ]
  }
 ],
 "metadata": {
  "kernelspec": {
   "display_name": "Python 3.9.13 ('ml-zoomcamp')",
   "language": "python",
   "name": "python3"
  },
  "language_info": {
   "codemirror_mode": {
    "name": "ipython",
    "version": 3
   },
   "file_extension": ".py",
   "mimetype": "text/x-python",
   "name": "python",
   "nbconvert_exporter": "python",
   "pygments_lexer": "ipython3",
   "version": "3.9.13"
  },
  "orig_nbformat": 4,
  "vscode": {
   "interpreter": {
    "hash": "eaa8a951e600e4fd7c0ee4550dc605fcfda383c27f36d6b2fce9a19ecbf99dda"
   }
  }
 },
 "nbformat": 4,
 "nbformat_minor": 2
}
